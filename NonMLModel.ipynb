{
 "cells": [
  {
   "cell_type": "code",
   "execution_count": 1,
   "metadata": {},
   "outputs": [],
   "source": [
    "import pandas as pd\n",
    "import numpy as np\n",
    "import ast\n",
    "from sklearn.model_selection import train_test_split\n",
    "from sklearn.preprocessing import LabelEncoder\n",
    "from sklearn.metrics import classification_report, confusion_matrix\n",
    "import matplotlib.pyplot as plt\n",
    "%matplotlib inline\n",
    "from sklearn.metrics import ConfusionMatrixDisplay"
   ]
  },
  {
   "cell_type": "code",
   "execution_count": 2,
   "metadata": {},
   "outputs": [],
   "source": [
    "directory_path = \"C:\\\\Users\\\\Gajavalli's\\\\Documents\\\\MS projects\\\\venky uk - sentiment analysis\\\\data\\\\\"\n",
    "file_name = 'news_dataset_pre_processed.csv'"
   ]
  },
  {
   "cell_type": "markdown",
   "metadata": {},
   "source": [
    "# Data Loading"
   ]
  },
  {
   "cell_type": "code",
   "execution_count": 3,
   "metadata": {},
   "outputs": [],
   "source": [
    "df = pd.read_csv(directory_path + file_name, low_memory=False)"
   ]
  },
  {
   "cell_type": "code",
   "execution_count": 4,
   "metadata": {},
   "outputs": [
    {
     "data": {
      "text/html": [
       "<div>\n",
       "<style scoped>\n",
       "    .dataframe tbody tr th:only-of-type {\n",
       "        vertical-align: middle;\n",
       "    }\n",
       "\n",
       "    .dataframe tbody tr th {\n",
       "        vertical-align: top;\n",
       "    }\n",
       "\n",
       "    .dataframe thead th {\n",
       "        text-align: right;\n",
       "    }\n",
       "</style>\n",
       "<table border=\"1\" class=\"dataframe\">\n",
       "  <thead>\n",
       "    <tr style=\"text-align: right;\">\n",
       "      <th></th>\n",
       "      <th>title</th>\n",
       "      <th>text</th>\n",
       "      <th>subject</th>\n",
       "      <th>date</th>\n",
       "      <th>label</th>\n",
       "      <th>title_len</th>\n",
       "      <th>text_len</th>\n",
       "      <th>caps_in_title</th>\n",
       "      <th>norm_caps_in_title</th>\n",
       "      <th>caps_in_text</th>\n",
       "      <th>norm_caps_in_text</th>\n",
       "      <th>text_tokens</th>\n",
       "      <th>text_urls</th>\n",
       "      <th>clean_text</th>\n",
       "      <th>title_urls</th>\n",
       "      <th>twitter_handles</th>\n",
       "      <th>clean_title</th>\n",
       "      <th>clean_text_tokens</th>\n",
       "      <th>clean_title_tokens</th>\n",
       "    </tr>\n",
       "  </thead>\n",
       "  <tbody>\n",
       "    <tr>\n",
       "      <th>0</th>\n",
       "      <td>Donald Trump Sends Out Embarrassing New Year’...</td>\n",
       "      <td>Donald Trump just couldn t wish all Americans ...</td>\n",
       "      <td>News</td>\n",
       "      <td>2017-12-31</td>\n",
       "      <td>fake</td>\n",
       "      <td>79</td>\n",
       "      <td>2893</td>\n",
       "      <td>11</td>\n",
       "      <td>0.139241</td>\n",
       "      <td>138</td>\n",
       "      <td>0.047701</td>\n",
       "      <td>['Donald', 'Trump', 'just', 'couldn', 't', 'wi...</td>\n",
       "      <td>['pic.twitter.com/4FPAe2KypA']</td>\n",
       "      <td>donald trump just couldn t wish all americans ...</td>\n",
       "      <td>[]</td>\n",
       "      <td>['@realDonaldTrump', '@TalbertSwan', '@calvins...</td>\n",
       "      <td>donald trump sends out embarrassing new year’s...</td>\n",
       "      <td>['donald', 'trump', 'just', 'couldn', 'wish', ...</td>\n",
       "      <td>['donald', 'trump', 'sends', 'out', 'embarrass...</td>\n",
       "    </tr>\n",
       "    <tr>\n",
       "      <th>1</th>\n",
       "      <td>Drunk Bragging Trump Staffer Started Russian ...</td>\n",
       "      <td>House Intelligence Committee Chairman Devin Nu...</td>\n",
       "      <td>News</td>\n",
       "      <td>2017-12-31</td>\n",
       "      <td>fake</td>\n",
       "      <td>69</td>\n",
       "      <td>1898</td>\n",
       "      <td>8</td>\n",
       "      <td>0.115942</td>\n",
       "      <td>88</td>\n",
       "      <td>0.046365</td>\n",
       "      <td>['House', 'Intelligence', 'Committee', 'Chairm...</td>\n",
       "      <td>[]</td>\n",
       "      <td>house intelligence committee chairman devin nu...</td>\n",
       "      <td>[]</td>\n",
       "      <td>[]</td>\n",
       "      <td>drunk bragging trump staffer started russian c...</td>\n",
       "      <td>['house', 'intelligence', 'committee', 'chairm...</td>\n",
       "      <td>['drunk', 'bragging', 'trump', 'staffer', 'sta...</td>\n",
       "    </tr>\n",
       "    <tr>\n",
       "      <th>2</th>\n",
       "      <td>Sheriff David Clarke Becomes An Internet Joke...</td>\n",
       "      <td>On Friday, it was revealed that former Milwauk...</td>\n",
       "      <td>News</td>\n",
       "      <td>2017-12-30</td>\n",
       "      <td>fake</td>\n",
       "      <td>90</td>\n",
       "      <td>3597</td>\n",
       "      <td>15</td>\n",
       "      <td>0.166667</td>\n",
       "      <td>308</td>\n",
       "      <td>0.085627</td>\n",
       "      <td>['On', 'Friday', 'it', 'was', 'revealed', 'tha...</td>\n",
       "      <td>['pic.twitter.com/XtZW5PdU2b', 'pic.twitter.co...</td>\n",
       "      <td>on friday, it was revealed that former milwauk...</td>\n",
       "      <td>[]</td>\n",
       "      <td>['@SheriffClarke', '@SheriffClarke', '@KeithLe...</td>\n",
       "      <td>sheriff david clarke becomes an internet joke ...</td>\n",
       "      <td>['on', 'it', 'was', 'revealed', 'that', 'forme...</td>\n",
       "      <td>['sheriff', 'david', 'clarke', 'becomes', 'an'...</td>\n",
       "    </tr>\n",
       "    <tr>\n",
       "      <th>3</th>\n",
       "      <td>Trump Is So Obsessed He Even Has Obama’s Name...</td>\n",
       "      <td>On Christmas day, Donald Trump announced that ...</td>\n",
       "      <td>News</td>\n",
       "      <td>2017-12-29</td>\n",
       "      <td>fake</td>\n",
       "      <td>78</td>\n",
       "      <td>2774</td>\n",
       "      <td>19</td>\n",
       "      <td>0.243590</td>\n",
       "      <td>123</td>\n",
       "      <td>0.044340</td>\n",
       "      <td>['On', 'Christmas', 'day', 'Donald', 'Trump', ...</td>\n",
       "      <td>['https://t.co/Fg7VacxRtJ', 'pic.twitter.com/5...</td>\n",
       "      <td>on christmas day, donald trump announced that ...</td>\n",
       "      <td>[]</td>\n",
       "      <td>['@pbump', '@_cingraham', '@_cingraham', '@_ci...</td>\n",
       "      <td>trump is so obsessed he even has obama’s name ...</td>\n",
       "      <td>['on', 'christmas', 'day', 'donald', 'trump', ...</td>\n",
       "      <td>['trump', 'is', 'so', 'obsessed', 'he', 'even'...</td>\n",
       "    </tr>\n",
       "    <tr>\n",
       "      <th>4</th>\n",
       "      <td>Pope Francis Just Called Out Donald Trump Dur...</td>\n",
       "      <td>Pope Francis used his annual Christmas Day mes...</td>\n",
       "      <td>News</td>\n",
       "      <td>2017-12-25</td>\n",
       "      <td>fake</td>\n",
       "      <td>70</td>\n",
       "      <td>2346</td>\n",
       "      <td>11</td>\n",
       "      <td>0.157143</td>\n",
       "      <td>63</td>\n",
       "      <td>0.026854</td>\n",
       "      <td>['Pope', 'Francis', 'used', 'his', 'annual', '...</td>\n",
       "      <td>[]</td>\n",
       "      <td>pope francis used his annual christmas day mes...</td>\n",
       "      <td>[]</td>\n",
       "      <td>[]</td>\n",
       "      <td>pope francis just called out donald trump duri...</td>\n",
       "      <td>['pope', 'francis', 'used', 'his', 'annual', '...</td>\n",
       "      <td>['pope', 'francis', 'just', 'called', 'out', '...</td>\n",
       "    </tr>\n",
       "  </tbody>\n",
       "</table>\n",
       "</div>"
      ],
      "text/plain": [
       "                                               title  \\\n",
       "0   Donald Trump Sends Out Embarrassing New Year’...   \n",
       "1   Drunk Bragging Trump Staffer Started Russian ...   \n",
       "2   Sheriff David Clarke Becomes An Internet Joke...   \n",
       "3   Trump Is So Obsessed He Even Has Obama’s Name...   \n",
       "4   Pope Francis Just Called Out Donald Trump Dur...   \n",
       "\n",
       "                                                text subject        date  \\\n",
       "0  Donald Trump just couldn t wish all Americans ...    News  2017-12-31   \n",
       "1  House Intelligence Committee Chairman Devin Nu...    News  2017-12-31   \n",
       "2  On Friday, it was revealed that former Milwauk...    News  2017-12-30   \n",
       "3  On Christmas day, Donald Trump announced that ...    News  2017-12-29   \n",
       "4  Pope Francis used his annual Christmas Day mes...    News  2017-12-25   \n",
       "\n",
       "  label  title_len  text_len  caps_in_title  norm_caps_in_title  caps_in_text  \\\n",
       "0  fake         79      2893             11            0.139241           138   \n",
       "1  fake         69      1898              8            0.115942            88   \n",
       "2  fake         90      3597             15            0.166667           308   \n",
       "3  fake         78      2774             19            0.243590           123   \n",
       "4  fake         70      2346             11            0.157143            63   \n",
       "\n",
       "   norm_caps_in_text                                        text_tokens  \\\n",
       "0           0.047701  ['Donald', 'Trump', 'just', 'couldn', 't', 'wi...   \n",
       "1           0.046365  ['House', 'Intelligence', 'Committee', 'Chairm...   \n",
       "2           0.085627  ['On', 'Friday', 'it', 'was', 'revealed', 'tha...   \n",
       "3           0.044340  ['On', 'Christmas', 'day', 'Donald', 'Trump', ...   \n",
       "4           0.026854  ['Pope', 'Francis', 'used', 'his', 'annual', '...   \n",
       "\n",
       "                                           text_urls  \\\n",
       "0                     ['pic.twitter.com/4FPAe2KypA']   \n",
       "1                                                 []   \n",
       "2  ['pic.twitter.com/XtZW5PdU2b', 'pic.twitter.co...   \n",
       "3  ['https://t.co/Fg7VacxRtJ', 'pic.twitter.com/5...   \n",
       "4                                                 []   \n",
       "\n",
       "                                          clean_text title_urls  \\\n",
       "0  donald trump just couldn t wish all americans ...         []   \n",
       "1  house intelligence committee chairman devin nu...         []   \n",
       "2  on friday, it was revealed that former milwauk...         []   \n",
       "3  on christmas day, donald trump announced that ...         []   \n",
       "4  pope francis used his annual christmas day mes...         []   \n",
       "\n",
       "                                     twitter_handles  \\\n",
       "0  ['@realDonaldTrump', '@TalbertSwan', '@calvins...   \n",
       "1                                                 []   \n",
       "2  ['@SheriffClarke', '@SheriffClarke', '@KeithLe...   \n",
       "3  ['@pbump', '@_cingraham', '@_cingraham', '@_ci...   \n",
       "4                                                 []   \n",
       "\n",
       "                                         clean_title  \\\n",
       "0  donald trump sends out embarrassing new year’s...   \n",
       "1  drunk bragging trump staffer started russian c...   \n",
       "2  sheriff david clarke becomes an internet joke ...   \n",
       "3  trump is so obsessed he even has obama’s name ...   \n",
       "4  pope francis just called out donald trump duri...   \n",
       "\n",
       "                                   clean_text_tokens  \\\n",
       "0  ['donald', 'trump', 'just', 'couldn', 'wish', ...   \n",
       "1  ['house', 'intelligence', 'committee', 'chairm...   \n",
       "2  ['on', 'it', 'was', 'revealed', 'that', 'forme...   \n",
       "3  ['on', 'christmas', 'day', 'donald', 'trump', ...   \n",
       "4  ['pope', 'francis', 'used', 'his', 'annual', '...   \n",
       "\n",
       "                                  clean_title_tokens  \n",
       "0  ['donald', 'trump', 'sends', 'out', 'embarrass...  \n",
       "1  ['drunk', 'bragging', 'trump', 'staffer', 'sta...  \n",
       "2  ['sheriff', 'david', 'clarke', 'becomes', 'an'...  \n",
       "3  ['trump', 'is', 'so', 'obsessed', 'he', 'even'...  \n",
       "4  ['pope', 'francis', 'just', 'called', 'out', '...  "
      ]
     },
     "execution_count": 4,
     "metadata": {},
     "output_type": "execute_result"
    }
   ],
   "source": [
    "df.head()"
   ]
  },
  {
   "cell_type": "code",
   "execution_count": 5,
   "metadata": {},
   "outputs": [],
   "source": [
    "df.clean_text_tokens = df.clean_text_tokens.map(ast.literal_eval)\n",
    "df.clean_title_tokens = df.clean_title_tokens.map(ast.literal_eval)"
   ]
  },
  {
   "cell_type": "markdown",
   "metadata": {},
   "source": [
    "# splitdata"
   ]
  },
  {
   "cell_type": "code",
   "execution_count": 6,
   "metadata": {},
   "outputs": [],
   "source": [
    "X_train, X_test, y_train, y_test = train_test_split(df[['title', 'norm_caps_in_title']], \n",
    "                                                    df['label'],\n",
    "                                                   test_size = 0.2,\n",
    "                                                   random_state = 42,\n",
    "                                                   stratify = df['label'])"
   ]
  },
  {
   "cell_type": "code",
   "execution_count": 7,
   "metadata": {},
   "outputs": [
    {
     "data": {
      "text/plain": [
       "(30910, 2)"
      ]
     },
     "execution_count": 7,
     "metadata": {},
     "output_type": "execute_result"
    }
   ],
   "source": [
    "X_train.shape"
   ]
  },
  {
   "cell_type": "code",
   "execution_count": 8,
   "metadata": {},
   "outputs": [
    {
     "data": {
      "text/plain": [
       "(7728, 2)"
      ]
     },
     "execution_count": 8,
     "metadata": {},
     "output_type": "execute_result"
    }
   ],
   "source": [
    "X_test.shape"
   ]
  },
  {
   "cell_type": "markdown",
   "metadata": {},
   "source": [
    "# Encode Labels"
   ]
  },
  {
   "cell_type": "code",
   "execution_count": 9,
   "metadata": {},
   "outputs": [],
   "source": [
    "le = LabelEncoder()"
   ]
  },
  {
   "cell_type": "code",
   "execution_count": 10,
   "metadata": {},
   "outputs": [],
   "source": [
    "y_train_enc = le.fit_transform(y_train)"
   ]
  },
  {
   "cell_type": "code",
   "execution_count": 11,
   "metadata": {},
   "outputs": [],
   "source": [
    "y_test_enc = le.transform(y_test)"
   ]
  },
  {
   "cell_type": "markdown",
   "metadata": {},
   "source": [
    "# Test Training Set"
   ]
  },
  {
   "cell_type": "code",
   "execution_count": 12,
   "metadata": {},
   "outputs": [],
   "source": [
    "# Based on observation true news has less than 0.14% capital letters and fake news has >=0.14% capitals in title\n",
    "# Considering the break_point = 0.14"
   ]
  },
  {
   "cell_type": "code",
   "execution_count": 13,
   "metadata": {},
   "outputs": [],
   "source": [
    "def predction(percent_capitals, threshold):\n",
    "    if percent_capitals >= threshold:\n",
    "        return 0\n",
    "    else:\n",
    "        return 1"
   ]
  },
  {
   "cell_type": "code",
   "execution_count": 14,
   "metadata": {},
   "outputs": [],
   "source": [
    "y_train_enc_hat = X_train['norm_caps_in_title'].apply(lambda x: predction(x, 0.14))"
   ]
  },
  {
   "cell_type": "code",
   "execution_count": 15,
   "metadata": {},
   "outputs": [
    {
     "name": "stdout",
     "output_type": "stream",
     "text": [
      "              precision    recall  f1-score   support\n",
      "\n",
      "        fake       0.99      0.96      0.97     13957\n",
      "        true       0.97      0.99      0.98     16953\n",
      "\n",
      "    accuracy                           0.98     30910\n",
      "   macro avg       0.98      0.97      0.98     30910\n",
      "weighted avg       0.98      0.98      0.98     30910\n",
      "\n"
     ]
    }
   ],
   "source": [
    "print(classification_report(y_train_enc, y_train_enc_hat, target_names=le.classes_))"
   ]
  },
  {
   "cell_type": "code",
   "execution_count": 19,
   "metadata": {},
   "outputs": [],
   "source": [
    "cm = confusion_matrix(y_train_enc, y_train_enc_hat)"
   ]
  },
  {
   "cell_type": "code",
   "execution_count": 20,
   "metadata": {},
   "outputs": [],
   "source": [
    "matrix = ConfusionMatrixDisplay(confusion_matrix = cm,\n",
    "                                display_labels = le.classes_)"
   ]
  },
  {
   "cell_type": "code",
   "execution_count": 21,
   "metadata": {},
   "outputs": [
    {
     "data": {
      "image/png": "[encoded data removed]",
      "text/plain": [
       "<Figure size 576x576 with 2 Axes>"
      ]
     },
     "metadata": {
      "needs_background": "light"
     },
     "output_type": "display_data"
    }
   ],
   "source": [
    "fig, ax = plt.subplots(figsize = (8, 8))\n",
    "matrix = matrix.plot(include_values = True, \n",
    "                     cmap = plt.cm.Blues, \n",
    "                     ax = ax, \n",
    "                     xticks_rotation = 'horizontal',\n",
    "                     values_format = 'd')\n",
    "matrix.ax_.set_title('Confusion Matrix for Training Set')\n",
    "plt.show()"
   ]
  },
  {
   "cell_type": "code",
   "execution_count": 22,
   "metadata": {},
   "outputs": [],
   "source": [
    "cm_norm = confusion_matrix(y_train_enc, y_train_enc_hat, normalize='true')\n",
    "matrix_norm = ConfusionMatrixDisplay(confusion_matrix = cm_norm,\n",
    "                                     display_labels = le.classes_)"
   ]
  },
  {
   "cell_type": "code",
   "execution_count": 23,
   "metadata": {},
   "outputs": [
    {
     "data": {
      "image/png": "[encoded data removed]",
      "text/plain": [
       "<Figure size 576x576 with 2 Axes>"
      ]
     },
     "metadata": {
      "needs_background": "light"
     },
     "output_type": "display_data"
    }
   ],
   "source": [
    "fig, ax = plt.subplots(figsize = (8, 8))\n",
    "matrix_norm = matrix_norm.plot(include_values = True, \n",
    "                               cmap = plt.cm.Blues, \n",
    "                               ax = ax, \n",
    "                               xticks_rotation = 'horizontal')\n",
    "matrix_norm.ax_.set_title('Normalized Confusion Matrix for Training Set')\n",
    "plt.show()"
   ]
  },
  {
   "cell_type": "markdown",
   "metadata": {},
   "source": [
    "# Miclassified data"
   ]
  },
  {
   "cell_type": "code",
   "execution_count": 24,
   "metadata": {},
   "outputs": [],
   "source": [
    "X_train.reset_index(drop=True, inplace=True)\n",
    "y_train_enc_hat.reset_index(drop=True, inplace=True)"
   ]
  },
  {
   "cell_type": "code",
   "execution_count": 25,
   "metadata": {},
   "outputs": [],
   "source": [
    "df_with_results = pd.concat([X_train, pd.Series(y_train_enc), pd.Series(y_train_enc_hat)], \n",
    "                            axis=1, ignore_index=True)"
   ]
  },
  {
   "cell_type": "code",
   "execution_count": 26,
   "metadata": {},
   "outputs": [],
   "source": [
    "df_with_results.columns = ['title', 'norm_caps_in_title', 'label', 'label_predicted']"
   ]
  },
  {
   "cell_type": "code",
   "execution_count": 27,
   "metadata": {},
   "outputs": [],
   "source": [
    "df_fake_as_true = df_with_results[(df_with_results.label == 0) & (df_with_results.label_predicted == 1)]"
   ]
  },
  {
   "cell_type": "code",
   "execution_count": 28,
   "metadata": {},
   "outputs": [],
   "source": [
    "pd.set_option('display.max_colwidth', None)"
   ]
  },
  {
   "cell_type": "code",
   "execution_count": 29,
   "metadata": {},
   "outputs": [
    {
     "data": {
      "text/html": [
       "<div>\n",
       "<style scoped>\n",
       "    .dataframe tbody tr th:only-of-type {\n",
       "        vertical-align: middle;\n",
       "    }\n",
       "\n",
       "    .dataframe tbody tr th {\n",
       "        vertical-align: top;\n",
       "    }\n",
       "\n",
       "    .dataframe thead th {\n",
       "        text-align: right;\n",
       "    }\n",
       "</style>\n",
       "<table border=\"1\" class=\"dataframe\">\n",
       "  <thead>\n",
       "    <tr style=\"text-align: right;\">\n",
       "      <th></th>\n",
       "      <th>title</th>\n",
       "      <th>norm_caps_in_title</th>\n",
       "      <th>label</th>\n",
       "      <th>label_predicted</th>\n",
       "    </tr>\n",
       "  </thead>\n",
       "  <tbody>\n",
       "    <tr>\n",
       "      <th>6</th>\n",
       "      <td>President Obama Arrives in Cuba</td>\n",
       "      <td>0.129032</td>\n",
       "      <td>0</td>\n",
       "      <td>1</td>\n",
       "    </tr>\n",
       "    <tr>\n",
       "      <th>11</th>\n",
       "      <td>51 Companies Are Pledging Over $650 Million In Refugee Support, White House Announces</td>\n",
       "      <td>0.127907</td>\n",
       "      <td>0</td>\n",
       "      <td>1</td>\n",
       "    </tr>\n",
       "    <tr>\n",
       "      <th>29</th>\n",
       "      <td>Ben Carson: Homeless Shelters Shouldn’t Be “Comfortable” Because People Might “Stay”</td>\n",
       "      <td>0.129412</td>\n",
       "      <td>0</td>\n",
       "      <td>1</td>\n",
       "    </tr>\n",
       "    <tr>\n",
       "      <th>30</th>\n",
       "      <td>Hillary Clinton: “Victory Fund” Gets Massive Cash Injection from Hedge Fund Management (Soros)</td>\n",
       "      <td>0.127660</td>\n",
       "      <td>0</td>\n",
       "      <td>1</td>\n",
       "    </tr>\n",
       "    <tr>\n",
       "      <th>41</th>\n",
       "      <td>BOOM! This Is How President Reagan Handled Protesters: “Negotiate? What is there to negotiate?” [Video]</td>\n",
       "      <td>0.135922</td>\n",
       "      <td>0</td>\n",
       "      <td>1</td>\n",
       "    </tr>\n",
       "  </tbody>\n",
       "</table>\n",
       "</div>"
      ],
      "text/plain": [
       "                                                                                                      title  \\\n",
       "6                                                                           President Obama Arrives in Cuba   \n",
       "11                    51 Companies Are Pledging Over $650 Million In Refugee Support, White House Announces   \n",
       "29                     Ben Carson: Homeless Shelters Shouldn’t Be “Comfortable” Because People Might “Stay”   \n",
       "30           Hillary Clinton: “Victory Fund” Gets Massive Cash Injection from Hedge Fund Management (Soros)   \n",
       "41  BOOM! This Is How President Reagan Handled Protesters: “Negotiate? What is there to negotiate?” [Video]   \n",
       "\n",
       "    norm_caps_in_title  label  label_predicted  \n",
       "6             0.129032      0                1  \n",
       "11            0.127907      0                1  \n",
       "29            0.129412      0                1  \n",
       "30            0.127660      0                1  \n",
       "41            0.135922      0                1  "
      ]
     },
     "execution_count": 29,
     "metadata": {},
     "output_type": "execute_result"
    }
   ],
   "source": [
    "df_fake_as_true.head()"
   ]
  },
  {
   "cell_type": "markdown",
   "metadata": {},
   "source": [
    "sample of True News titles there were misclassified as Fake"
   ]
  },
  {
   "cell_type": "code",
   "execution_count": 30,
   "metadata": {},
   "outputs": [],
   "source": [
    "df_true_as_fake = df_with_results[(df_with_results.label == 1) & (df_with_results.label_predicted == 0)]"
   ]
  },
  {
   "cell_type": "code",
   "execution_count": 31,
   "metadata": {},
   "outputs": [
    {
     "data": {
      "text/html": [
       "<div>\n",
       "<style scoped>\n",
       "    .dataframe tbody tr th:only-of-type {\n",
       "        vertical-align: middle;\n",
       "    }\n",
       "\n",
       "    .dataframe tbody tr th {\n",
       "        vertical-align: top;\n",
       "    }\n",
       "\n",
       "    .dataframe thead th {\n",
       "        text-align: right;\n",
       "    }\n",
       "</style>\n",
       "<table border=\"1\" class=\"dataframe\">\n",
       "  <thead>\n",
       "    <tr style=\"text-align: right;\">\n",
       "      <th></th>\n",
       "      <th>title</th>\n",
       "      <th>norm_caps_in_title</th>\n",
       "      <th>label</th>\n",
       "      <th>label_predicted</th>\n",
       "    </tr>\n",
       "  </thead>\n",
       "  <tbody>\n",
       "    <tr>\n",
       "      <th>101</th>\n",
       "      <td>Factbox: Trump on Twitter (Nov. 28) - NFL, First Lady</td>\n",
       "      <td>0.169811</td>\n",
       "      <td>1</td>\n",
       "      <td>0</td>\n",
       "    </tr>\n",
       "    <tr>\n",
       "      <th>107</th>\n",
       "      <td>Saudi Crown Prince calls Iran leader 'new Hitler': NYT</td>\n",
       "      <td>0.148148</td>\n",
       "      <td>1</td>\n",
       "      <td>0</td>\n",
       "    </tr>\n",
       "    <tr>\n",
       "      <th>176</th>\n",
       "      <td>U.S. Senate backs Montenegro's membership in NATO</td>\n",
       "      <td>0.163265</td>\n",
       "      <td>1</td>\n",
       "      <td>0</td>\n",
       "    </tr>\n",
       "    <tr>\n",
       "      <th>657</th>\n",
       "      <td>UNESCO selects France's Azoulay as new chief</td>\n",
       "      <td>0.181818</td>\n",
       "      <td>1</td>\n",
       "      <td>0</td>\n",
       "    </tr>\n",
       "    <tr>\n",
       "      <th>658</th>\n",
       "      <td>EDF wants to take part in Saudi nuclear plans: CEO</td>\n",
       "      <td>0.140000</td>\n",
       "      <td>1</td>\n",
       "      <td>0</td>\n",
       "    </tr>\n",
       "  </tbody>\n",
       "</table>\n",
       "</div>"
      ],
      "text/plain": [
       "                                                      title  \\\n",
       "101   Factbox: Trump on Twitter (Nov. 28) - NFL, First Lady   \n",
       "107  Saudi Crown Prince calls Iran leader 'new Hitler': NYT   \n",
       "176       U.S. Senate backs Montenegro's membership in NATO   \n",
       "657            UNESCO selects France's Azoulay as new chief   \n",
       "658      EDF wants to take part in Saudi nuclear plans: CEO   \n",
       "\n",
       "     norm_caps_in_title  label  label_predicted  \n",
       "101            0.169811      1                0  \n",
       "107            0.148148      1                0  \n",
       "176            0.163265      1                0  \n",
       "657            0.181818      1                0  \n",
       "658            0.140000      1                0  "
      ]
     },
     "execution_count": 31,
     "metadata": {},
     "output_type": "execute_result"
    }
   ],
   "source": [
    "df_true_as_fake.head()"
   ]
  },
  {
   "cell_type": "markdown",
   "metadata": {},
   "source": [
    "# Correctly Classified Stories"
   ]
  },
  {
   "cell_type": "code",
   "execution_count": 32,
   "metadata": {},
   "outputs": [],
   "source": [
    "df_true_as_true = df_with_results[(df_with_results.label == 1) & (df_with_results.label_predicted == 1)]"
   ]
  },
  {
   "cell_type": "code",
   "execution_count": 33,
   "metadata": {},
   "outputs": [
    {
     "data": {
      "text/html": [
       "<div>\n",
       "<style scoped>\n",
       "    .dataframe tbody tr th:only-of-type {\n",
       "        vertical-align: middle;\n",
       "    }\n",
       "\n",
       "    .dataframe tbody tr th {\n",
       "        vertical-align: top;\n",
       "    }\n",
       "\n",
       "    .dataframe thead th {\n",
       "        text-align: right;\n",
       "    }\n",
       "</style>\n",
       "<table border=\"1\" class=\"dataframe\">\n",
       "  <thead>\n",
       "    <tr style=\"text-align: right;\">\n",
       "      <th></th>\n",
       "      <th>title</th>\n",
       "      <th>norm_caps_in_title</th>\n",
       "      <th>label</th>\n",
       "      <th>label_predicted</th>\n",
       "    </tr>\n",
       "  </thead>\n",
       "  <tbody>\n",
       "    <tr>\n",
       "      <th>0</th>\n",
       "      <td>Magnitude 6.2 quake hits southeast of Oaxaca, Mexico: USGS</td>\n",
       "      <td>0.120690</td>\n",
       "      <td>1</td>\n",
       "      <td>1</td>\n",
       "    </tr>\n",
       "    <tr>\n",
       "      <th>1</th>\n",
       "      <td>Defense chief say he has power to set Afghan troop levels</td>\n",
       "      <td>0.035088</td>\n",
       "      <td>1</td>\n",
       "      <td>1</td>\n",
       "    </tr>\n",
       "    <tr>\n",
       "      <th>2</th>\n",
       "      <td>Democrats seek probe of Trump donation to Florida attorney general</td>\n",
       "      <td>0.045455</td>\n",
       "      <td>1</td>\n",
       "      <td>1</td>\n",
       "    </tr>\n",
       "    <tr>\n",
       "      <th>3</th>\n",
       "      <td>Pennsylvania attorney general resigns following perjury conviction</td>\n",
       "      <td>0.015152</td>\n",
       "      <td>1</td>\n",
       "      <td>1</td>\n",
       "    </tr>\n",
       "    <tr>\n",
       "      <th>4</th>\n",
       "      <td>Trump reaches out to lawmakers on healthcare as another says 'no'</td>\n",
       "      <td>0.015385</td>\n",
       "      <td>1</td>\n",
       "      <td>1</td>\n",
       "    </tr>\n",
       "  </tbody>\n",
       "</table>\n",
       "</div>"
      ],
      "text/plain": [
       "                                                                title  \\\n",
       "0          Magnitude 6.2 quake hits southeast of Oaxaca, Mexico: USGS   \n",
       "1           Defense chief say he has power to set Afghan troop levels   \n",
       "2  Democrats seek probe of Trump donation to Florida attorney general   \n",
       "3  Pennsylvania attorney general resigns following perjury conviction   \n",
       "4   Trump reaches out to lawmakers on healthcare as another says 'no'   \n",
       "\n",
       "   norm_caps_in_title  label  label_predicted  \n",
       "0            0.120690      1                1  \n",
       "1            0.035088      1                1  \n",
       "2            0.045455      1                1  \n",
       "3            0.015152      1                1  \n",
       "4            0.015385      1                1  "
      ]
     },
     "execution_count": 33,
     "metadata": {},
     "output_type": "execute_result"
    }
   ],
   "source": [
    "df_true_as_true.head()"
   ]
  },
  {
   "cell_type": "code",
   "execution_count": 34,
   "metadata": {},
   "outputs": [],
   "source": [
    "df_fake_as_fake = df_with_results[(df_with_results.label == 0) & (df_with_results.label_predicted == 0)]"
   ]
  },
  {
   "cell_type": "code",
   "execution_count": 35,
   "metadata": {},
   "outputs": [
    {
     "data": {
      "text/html": [
       "<div>\n",
       "<style scoped>\n",
       "    .dataframe tbody tr th:only-of-type {\n",
       "        vertical-align: middle;\n",
       "    }\n",
       "\n",
       "    .dataframe tbody tr th {\n",
       "        vertical-align: top;\n",
       "    }\n",
       "\n",
       "    .dataframe thead th {\n",
       "        text-align: right;\n",
       "    }\n",
       "</style>\n",
       "<table border=\"1\" class=\"dataframe\">\n",
       "  <thead>\n",
       "    <tr style=\"text-align: right;\">\n",
       "      <th></th>\n",
       "      <th>title</th>\n",
       "      <th>norm_caps_in_title</th>\n",
       "      <th>label</th>\n",
       "      <th>label_predicted</th>\n",
       "    </tr>\n",
       "  </thead>\n",
       "  <tbody>\n",
       "    <tr>\n",
       "      <th>5</th>\n",
       "      <td>Trump Just Visited His Home State, And New Yorkers Told Him To Get F*cked (IMAGES/VIDEO)</td>\n",
       "      <td>0.280899</td>\n",
       "      <td>0</td>\n",
       "      <td>0</td>\n",
       "    </tr>\n",
       "    <tr>\n",
       "      <th>7</th>\n",
       "      <td>HUGE Spending Agreement Reached: GOP Caves On Sending 10,000 Syrian Refugees</td>\n",
       "      <td>0.197368</td>\n",
       "      <td>0</td>\n",
       "      <td>0</td>\n",
       "    </tr>\n",
       "    <tr>\n",
       "      <th>8</th>\n",
       "      <td>OBAMA’S REVEALING LETTER TO BROTHER TELLS WHY BARACK GOT INTO POLITICS</td>\n",
       "      <td>0.842857</td>\n",
       "      <td>0</td>\n",
       "      <td>0</td>\n",
       "    </tr>\n",
       "    <tr>\n",
       "      <th>9</th>\n",
       "      <td>BIZARRE WARNING FROM OBAMA Campaign Manager Screams Shadow Government Coup</td>\n",
       "      <td>0.391892</td>\n",
       "      <td>0</td>\n",
       "      <td>0</td>\n",
       "    </tr>\n",
       "    <tr>\n",
       "      <th>10</th>\n",
       "      <td>McCain CALLS OUT Trump: Show Us The Evidence!</td>\n",
       "      <td>0.326087</td>\n",
       "      <td>0</td>\n",
       "      <td>0</td>\n",
       "    </tr>\n",
       "  </tbody>\n",
       "</table>\n",
       "</div>"
      ],
      "text/plain": [
       "                                                                                        title  \\\n",
       "5    Trump Just Visited His Home State, And New Yorkers Told Him To Get F*cked (IMAGES/VIDEO)   \n",
       "7                HUGE Spending Agreement Reached: GOP Caves On Sending 10,000 Syrian Refugees   \n",
       "8                      OBAMA’S REVEALING LETTER TO BROTHER TELLS WHY BARACK GOT INTO POLITICS   \n",
       "9                  BIZARRE WARNING FROM OBAMA Campaign Manager Screams Shadow Government Coup   \n",
       "10                                              McCain CALLS OUT Trump: Show Us The Evidence!   \n",
       "\n",
       "    norm_caps_in_title  label  label_predicted  \n",
       "5             0.280899      0                0  \n",
       "7             0.197368      0                0  \n",
       "8             0.842857      0                0  \n",
       "9             0.391892      0                0  \n",
       "10            0.326087      0                0  "
      ]
     },
     "execution_count": 35,
     "metadata": {},
     "output_type": "execute_result"
    }
   ],
   "source": [
    "df_fake_as_fake.head()"
   ]
  },
  {
   "cell_type": "markdown",
   "metadata": {},
   "source": [
    "# Summary"
   ]
  },
  {
   "cell_type": "markdown",
   "metadata": {},
   "source": [
    "1. Tried Non ML model by using percentage of capital letters in a news post title.\n",
    "2. The Fake news contains lot of capital words or most of the words starts with capital letter.\n",
    "3. True news are that capitalize the first letter of title and proper nouns.\n",
    "4. Using this method observed that 98% of accuracy and the 2% of misclassified news are the amount of Ture news misclassified as fake is slightly lower than vice versa.\n",
    "5. I think this text overfits to this dataset, there may be more fake news like the 2% that is misclassified in data."
   ]
  }
 ],
 "metadata": {
  "kernelspec": {
   "display_name": "Python 3",
   "language": "python",
   "name": "python3"
  },
  "language_info": {
   "codemirror_mode": {
    "name": "ipython",
    "version": 3
   },
   "file_extension": ".py",
   "mimetype": "text/x-python",
   "name": "python",
   "nbconvert_exporter": "python",
   "pygments_lexer": "ipython3",
   "version": "3.7.6"
  },
  "toc": {
   "base_numbering": 1,
   "nav_menu": {},
   "number_sections": true,
   "sideBar": true,
   "skip_h1_title": false,
   "title_cell": "Table of Contents",
   "title_sidebar": "Contents",
   "toc_cell": false,
   "toc_position": {
    "height": "calc(100% - 180px)",
    "left": "10px",
    "top": "150px",
    "width": "203px"
   },
   "toc_section_display": true,
   "toc_window_display": true
  }
 },
 "nbformat": 4,
 "nbformat_minor": 4
}
